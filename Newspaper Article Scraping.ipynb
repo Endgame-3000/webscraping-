{
 "cells": [
  {
   "cell_type": "code",
   "execution_count": 45,
   "metadata": {},
   "outputs": [],
   "source": [
    "import requests\n",
    "from newspaper import Article as al\n",
    "url=\"https://www.hindustantimes.com/real-estate/in-un-building-donald-trump-sees-a-real-estate-deal-that-got-away/story-zoRCT8eXziIeSTsSQE0gHI.html\"\n",
    "htinfo=al(content)"
   ]
  },
  {
   "cell_type": "code",
   "execution_count": 46,
   "metadata": {},
   "outputs": [],
   "source": [
    "htinfo.download()"
   ]
  },
  {
   "cell_type": "code",
   "execution_count": 47,
   "metadata": {},
   "outputs": [],
   "source": [
    "htinfo.parse()"
   ]
  },
  {
   "cell_type": "code",
   "execution_count": 48,
   "metadata": {},
   "outputs": [
    {
     "name": "stdout",
     "output_type": "stream",
     "text": [
      "In UN building, Donald Trump sees a real estate deal that got away\n"
     ]
    }
   ],
   "source": [
    "print(htinfo.title)"
   ]
  },
  {
   "cell_type": "code",
   "execution_count": 49,
   "metadata": {},
   "outputs": [
    {
     "data": {
      "text/plain": [
       "'real-estate\\n\\nUpdated: Sep 23, 2019 17:26 IST\\n\\nAs President Donald Trump visits the United Nations building in New York this week, he won’t be focused only on the global challenges facing the world body — he’s still reliving the real estate deal there that got away.\\n\\nMore than a decade later, Trump vividly recalls the overtures he made to rebuild the 39-story tower in the early 2000s and posits that he could have done a better job with the $2.3 billion project, which took about three years longer than anticipated and came in more than $400 million over budget.\\n\\nIn the leadup to this week’s UN General Assembly meetings, the president reminisced with reporters on Air Force One this past week about his efforts to win the project.\\n\\n“I offered to rebuild it at a tiny fraction of what they were going to build it for,” he said.\\n\\nIn 2005, then-developer Trump went before a US Senate committee to complain that the UN was bungling the project. “They don’t know what they want, they don’t know what they have, they don’t know what they’re doing,” Trump said.\\n\\nHe appealed to the panel to let him manage the project. He would even waive his fee, he said. In the end, he didn’t get the project, but his words were music to senators concerned about costs.\\n\\n“When can you start?” said one appreciative lawmaker, Sen. Mark Dayton, D-Minn., who went on to serve as the state’s governor for two terms.\\n\\nTrump is scheduled to speak to the UN General Assembly on Tuesday. He was asked if he’ll think back to his real estate days when he returns to the UN compound. It sounded like he certainly would.\\n\\n“I was a very good real estate developer,” he reminisced. He added that he had correctly predicted “It will end up being much more” than expected.\\n\\n“They didn’t even know what New York steam was versus a boiler,” he said of the developers. “They knew nothing.”\\n\\nTrump said an ambassador, he believed from Sweden, contacted him to ask how he could have built Trump World Tower, right across the street from the UN compound, for far less than what was envisioned for the smaller U.N. headquarters.\\n\\n“I said, ‘Because I know how the game is played,’“ Trump recalled.\\n\\nTrump said he could have completed the project for about $500 million. He would have used marble instead of terrazzo, which is much more expensive, he recalled.\\n\\nThe UN compound was largely built between 1949 and 1952. Over time, it no longer conformed to safety and fire codes, or to security needs. The US provided about $488 million to help pay for the renovations, according to a 2015 Government Accountability Office report.\\n\\nTrump clearly got a kick out of rehashing the episode. It gave him one more chance to relive his developer days.\\n\\n“It would have been a great job,” he declared.\\n\\nFirst Published: Sep 23, 2019 10:46 IST'"
      ]
     },
     "execution_count": 49,
     "metadata": {},
     "output_type": "execute_result"
    }
   ],
   "source": [
    "htinfo.text"
   ]
  },
  {
   "cell_type": "code",
   "execution_count": 50,
   "metadata": {},
   "outputs": [
    {
     "name": "stdout",
     "output_type": "stream",
     "text": [
      "{'https://www.hindustantimes.com/rf/image_size_90x90/HT/p2/2019/09/30/Pictures/gurugram-expressway-gurugram-hindustan-thursday-project-residential_6e77d842-e35d-11e9-939f-ba4a7f73df5c.JPG', 'https://www.hindustantimes.com/rf/image_size_444x250/HT/p2/2019/10/04/Pictures/national-security-advisor-center-doval-media-national_948cae16-e69d-11e9-bf1a-4811dd02bcdc.JPG', 'https://www.hindustantimes.com/rf/image_size_90x90/HT/p2/2019/09/28/Pictures/xxx_03544332-e1b6-11e9-b0cd-667d8786d605.jpg', 'https://www.hindustantimes.com/rf/image_size_90x90/HT/p2/2019/09/29/Pictures/shard-london-bridge_70a37022-e27c-11e9-b0cd-667d8786d605.jpg', 'https://www.hindustantimes.com/rf/image_size_444x250/HT/p2/2019/10/04/Pictures/pakistan-foreign-minister-nations-mehmood-qureshi-addresses_2d5cdc32-e681-11e9-bf1a-4811dd02bcdc.jpg', 'https://www.hindustantimes.com/rf/image_size_444x250/HT/p2/2019/10/04/Pictures/rbi-imposed-operational-restriction-on-pmc-bank_9ba58494-e6bf-11e9-bf1a-4811dd02bcdc.jpg', 'https://www.hindustantimes.com/res/images/ht-copy.png', 'https://www.hindustantimes.com/images/app-images/2019/4/authors/logo-ht.png', 'https://www.hindustantimes.com/rf/image_size_90x90/HT/p2/2019/09/23/Pictures/conference-minister-president-washington-joint-australia-morrison_8842da76-ddc0-11e9-99da-c4edc6fcabc7.jpg', 'https://www.hindustantimes.com/rf/image_size_444x250/HT/p2/2019/10/04/Pictures/_cf4d1006-e6b4-11e9-939f-ba4a7f73df5c.png', 'https://www.hindustantimes.com/rf/image_size_444x250/HT/p2/2019/10/04/Pictures/_8a56f7f6-e6a4-11e9-bf1a-4811dd02bcdc.jpg', 'https://www.hindustantimes.com/images/app-images/2019/4/authors/source_weather-cm.png', 'https://www.hindustantimes.com/res/img/app-images/HomePageV1/zero.gif', 'https://www.hindustantimes.com/rf/image_size_444x250/HT/p2/2019/10/04/Pictures/campaign-muhammad-elections-political-islamabad-organisation-islamic_b8f79ae4-e6c6-11e9-bf1a-4811dd02bcdc.jpg', 'https://q.quora.com/_/ad/18d72aacafe84701a5b30e418a8a6611/pixel?tag=ViewContent&noscript=1', 'https://sb.scorecardresearch.com/p?c1=2&c2=6035286&cv=2.0&cj=1', 'https://www.hindustantimes.com/rf/image_size_960x540/HT/p2/2019/09/23/Pictures/conference-minister-president-washington-joint-australia-morrison_83d8aef2-ddc0-11e9-99da-c4edc6fcabc7.jpg', 'https://www.hindustantimes.com/rf/image_size_90x90/HT/p2/2019/09/27/Pictures/city-and-sustainability-design-vector-ilustration_d1ba3014-e126-11e9-a910-fb95b571a1f5.jpg', 'https://www.hindustantimes.com/rf/image_size_444x250/HT/p2/2019/10/04/Pictures/shutdown-after-abrogation-of-article-370_b2e12c44-e69c-11e9-939f-ba4a7f73df5c.jpg', 'https://www.hindustantimes.com/images/app-images/ht/default_author.png', 'https://www.hindustantimes.com/rf/image_size_444x250/HT/p2/2019/10/04/Pictures/ind-vs-sa-1st-test-match-day_cc3d8cf0-e67e-11e9-939f-ba4a7f73df5c.jpg'}\n"
     ]
    }
   ],
   "source": [
    "print(htinfo.images)"
   ]
  },
  {
   "cell_type": "code",
   "execution_count": 51,
   "metadata": {},
   "outputs": [
    {
     "name": "stdout",
     "output_type": "stream",
     "text": [
      "[]\n"
     ]
    }
   ],
   "source": [
    "print(htinfo.keywords)"
   ]
  },
  {
   "cell_type": "code",
   "execution_count": 52,
   "metadata": {},
   "outputs": [
    {
     "name": "stdout",
     "output_type": "stream",
     "text": [
      "https://www.hindustantimes.com/rf/image_size_960x540/HT/p2/2019/09/23/Pictures/conference-minister-president-washington-joint-australia-morrison_83d8aef2-ddc0-11e9-99da-c4edc6fcabc7.jpg\n"
     ]
    }
   ],
   "source": [
    "print(htinfo.top_image)"
   ]
  },
  {
   "cell_type": "code",
   "execution_count": 60,
   "metadata": {},
   "outputs": [],
   "source": [
    "raw=htinfo.html"
   ]
  },
  {
   "cell_type": "code",
   "execution_count": 58,
   "metadata": {},
   "outputs": [],
   "source": [
    "from bs4 import BeautifulSoup as bs"
   ]
  },
  {
   "cell_type": "code",
   "execution_count": 61,
   "metadata": {},
   "outputs": [],
   "source": [
    "soup=bs(raw)"
   ]
  },
  {
   "cell_type": "code",
   "execution_count": 63,
   "metadata": {},
   "outputs": [
    {
     "data": {
      "text/plain": [
       "[<img alt=\"scorecardresearch\" src=\"https://sb.scorecardresearch.com/p?c1=2&amp;c2=6035286&amp;cv=2.0&amp;cj=1\"/>,\n",
       " <img alt=\"quora\" height=\"1\" src=\"https://q.quora.com/_/ad/18d72aacafe84701a5b30e418a8a6611/pixel?tag=ViewContent&amp;noscript=1\" style=\"display: none\" width=\"1\"/>,\n",
       " <img alt=\"hindustantimes\" src=\"https://www.hindustantimes.com/images/app-images/2019/4/authors/logo-ht.png\" title=\"hindustantimes\"/>,\n",
       " <img alt=\"Open Weather Map\" src=\"https://www.hindustantimes.com/images/app-images/2019/4/authors/source_weather-cm.png\" title=\"Open Weather Map\"/>,\n",
       " <img alt=\"Associated Press\" src=\"https://www.hindustantimes.com/images/app-images/ht/default_author.png\" title=\"Associated Press\"/>,\n",
       " <img alt=\"US President Donald Trump is scheduled to speak to the UN General Assembly on Tuesday.\" src=\"https://www.hindustantimes.com/rf/image_size_960x540/HT/p2/2019/09/23/Pictures/conference-minister-president-washington-joint-australia-morrison_83d8aef2-ddc0-11e9-99da-c4edc6fcabc7.jpg\" title=\"US President Donald Trump is scheduled to speak to the UN General Assembly on Tuesday.\"/>,\n",
       " <img alt=\"‘Doesn’t behove office Khan holds’: India’s acerbic response to Pak PM’s call\" src=\"https://www.hindustantimes.com/rf/image_size_444x250/HT/p2/2019/10/04/Pictures/_cf4d1006-e6b4-11e9-939f-ba4a7f73df5c.png\" title=\"‘Doesn’t behove office Khan holds’: India’s acerbic response to Pak PM’s call\"/>,\n",
       " <img alt=\"India’s sharp takedown of Pak over Hafiz Saeed and his ‘pocket money’\" src=\"https://www.hindustantimes.com/rf/image_size_444x250/HT/p2/2019/10/04/Pictures/campaign-muhammad-elections-political-islamabad-organisation-islamic_b8f79ae4-e6c6-11e9-bf1a-4811dd02bcdc.jpg\" title=\"India’s sharp takedown of Pak over Hafiz Saeed and his ‘pocket money’\"/>,\n",
       " <img alt=\"Ex-PMC bank MD Joy Thomas held amid ED raids\" src=\"https://www.hindustantimes.com/rf/image_size_444x250/HT/p2/2019/10/04/Pictures/rbi-imposed-operational-restriction-on-pmc-bank_9ba58494-e6bf-11e9-bf1a-4811dd02bcdc.jpg\" title=\"Ex-PMC bank MD Joy Thomas held amid ED raids\"/>,\n",
       " <img alt=\"UK’s Labour party MPs push to recall Kashmir resolution that angered India\" src=\"https://www.hindustantimes.com/rf/image_size_444x250/HT/p2/2019/10/04/Pictures/shutdown-after-abrogation-of-article-370_b2e12c44-e69c-11e9-939f-ba4a7f73df5c.jpg\" title=\"UK’s Labour party MPs push to recall Kashmir resolution that angered India\"/>,\n",
       " <img alt=\"At conclave with naval chiefs of 10 countries, NSA Ajit Doval floats an idea\" src=\"https://www.hindustantimes.com/rf/image_size_444x250/HT/p2/2019/10/04/Pictures/national-security-advisor-center-doval-media-national_948cae16-e69d-11e9-bf1a-4811dd02bcdc.JPG\" title=\"At conclave with naval chiefs of 10 countries, NSA Ajit Doval floats an idea\"/>,\n",
       " <img alt=\"‘Moving towards an authoritarian state’: Rahul Gandhi on FIR against celebs\" src=\"https://www.hindustantimes.com/rf/image_size_444x250/HT/p2/2019/10/04/Pictures/_8a56f7f6-e6a4-11e9-bf1a-4811dd02bcdc.jpg\" title=\"‘Moving towards an authoritarian state’: Rahul Gandhi on FIR against celebs\"/>,\n",
       " <img alt=\"Pak minister gets angry when asked to name 58 countries backing them on J&amp;K\" src=\"https://www.hindustantimes.com/rf/image_size_444x250/HT/p2/2019/10/04/Pictures/pakistan-foreign-minister-nations-mehmood-qureshi-addresses_2d5cdc32-e681-11e9-bf1a-4811dd02bcdc.jpg\" title=\"Pak minister gets angry when asked to name 58 countries backing them on J&amp;K\"/>,\n",
       " <img alt=\"‘More to it than just performance’:Gavaskar hits out at treatment of Ashwin\" src=\"https://www.hindustantimes.com/rf/image_size_444x250/HT/p2/2019/10/04/Pictures/ind-vs-sa-1st-test-match-day_cc3d8cf0-e67e-11e9-939f-ba4a7f73df5c.jpg\" title=\"‘More to it than just performance’:Gavaskar hits out at treatment of Ashwin\"/>,\n",
       " <img alt=\"Akshay rescues unconscious man in viral video, hailed as ‘hero’. Watch\" class=\"lazy\" data-original=\"https://www.hindustantimes.com/rf/image_size_90x90/HT/p2/2019/10/04/Pictures/_fa48bb3c-e6a2-11e9-a8aa-54897fdfe8ad.JPG\" src=\"https://www.hindustantimes.com/res/img/app-images/HomePageV1/zero.gif\" title=\"Akshay rescues unconscious man in viral video, hailed as ‘hero’. Watch\"/>,\n",
       " <img alt=\"John doesn’t want to follow Kabir Singh trend, prefers being different\" class=\"lazy\" data-original=\"https://www.hindustantimes.com/rf/image_size_90x90/HT/p2/2019/10/04/Pictures/mumbai-mumbai-batla-abraham-upcoming-house-screening_0c04ba9a-e6aa-11e9-a8aa-54897fdfe8ad.jpg\" src=\"https://www.hindustantimes.com/res/img/app-images/HomePageV1/zero.gif\" title=\"John doesn’t want to follow Kabir Singh trend, prefers being different\"/>,\n",
       " <img alt=\"TV actor Dipika Kakar hospitalised, husband gives a sweet hug\" class=\"lazy\" data-original=\"https://www.hindustantimes.com/rf/image_size_90x90/HT/p2/2019/10/04/Pictures/_2613a6ee-e68c-11e9-a8aa-54897fdfe8ad.jpg\" src=\"https://www.hindustantimes.com/res/img/app-images/HomePageV1/zero.gif\" title=\"TV actor Dipika Kakar hospitalised, husband gives a sweet hug\"/>,\n",
       " <img alt=\"Priyanka says Sophie Turner insists on calling herself jethani\" class=\"lazy\" data-original=\"https://www.hindustantimes.com/rf/image_size_90x90/HT/p2/2019/10/04/Pictures/_2c831b5a-e686-11e9-bf1a-4811dd02bcdc.jpg\" src=\"https://www.hindustantimes.com/res/img/app-images/HomePageV1/zero.gif\" title=\"Priyanka says Sophie Turner insists on calling herself jethani\"/>,\n",
       " <img alt=\"Main accused of Bulandshahr violence that claimed a cop’s life released on bail\" class=\"lazy\" data-original=\"https://www.hindustantimes.com/images/app-images/2019/7/90x90.jpg\" src=\"https://www.hindustantimes.com/res/img/app-images/HomePageV1/zero.gif\" title=\"Main accused of Bulandshahr violence that claimed a cop’s life released on bail\"/>,\n",
       " <img alt=\"Best hundred I’ve had for South Africa: Elgar\" class=\"lazy\" data-original=\"https://www.hindustantimes.com/rf/image_size_90x90/HT/p2/2019/10/04/Pictures/3rd-day-ind-1st-test-match-between_dbd4f3b2-e6c7-11e9-a8aa-54897fdfe8ad.jpg\" src=\"https://www.hindustantimes.com/res/img/app-images/HomePageV1/zero.gif\" title=\"Best hundred I’ve had for South Africa: Elgar\"/>,\n",
       " <img alt=\"In Lalithaa jewellery robbery case, a Netflix web series connection \" class=\"lazy\" data-original=\"https://www.hindustantimes.com/rf/image_size_90x90/HT/p2/2019/10/04/Pictures/_6fac7b16-e6c6-11e9-939f-ba4a7f73df5c.png\" src=\"https://www.hindustantimes.com/res/img/app-images/HomePageV1/zero.gif\" title=\"In Lalithaa jewellery robbery case, a Netflix web series connection \"/>,\n",
       " <img alt=\"India’s sharp takedown of Pak over Hafiz Saeed and his ‘pocket money’\" class=\"lazy\" data-original=\"https://www.hindustantimes.com/rf/image_size_90x90/HT/p2/2019/10/04/Pictures/campaign-muhammad-elections-political-islamabad-organisation-islamic_b5754f2e-e6c6-11e9-bf1a-4811dd02bcdc.jpg\" src=\"https://www.hindustantimes.com/res/img/app-images/HomePageV1/zero.gif\" title=\"India’s sharp takedown of Pak over Hafiz Saeed and his ‘pocket money’\"/>,\n",
       " <img alt=\"‘Nationalism not a negative sentiment’: Jaishankar at World Economic Forum \" class=\"lazy\" data-original=\"https://www.hindustantimes.com/rf/image_size_90x90/HT/p2/2019/10/04/Pictures/_941fd8aa-e692-11e9-939f-ba4a7f73df5c.jpg\" src=\"https://www.hindustantimes.com/res/img/app-images/HomePageV1/zero.gif\" title=\"‘Nationalism not a negative sentiment’: Jaishankar at World Economic Forum \"/>,\n",
       " <img alt=\"Aditi Singh, UP MLA who defied boycott directive, gets Congress notice\" class=\"lazy\" data-original=\"https://www.hindustantimes.com/rf/image_size_90x90/HT/p2/2019/10/04/Pictures/_57d7c54e-e6a4-11e9-a8aa-54897fdfe8ad.png\" src=\"https://www.hindustantimes.com/res/img/app-images/HomePageV1/zero.gif\" title=\"Aditi Singh, UP MLA who defied boycott directive, gets Congress notice\"/>,\n",
       " <img alt=\"Is Nitish Kumar responsible for Patna disaster? Giriraj Singh answers\" class=\"lazy\" data-original=\"https://www.hindustantimes.com/rf/image_size_90x90/HT/p2/2019/10/04/Pictures/_37ec68ac-e695-11e9-a8aa-54897fdfe8ad.png\" src=\"https://www.hindustantimes.com/res/img/app-images/HomePageV1/zero.gif\" title=\"Is Nitish Kumar responsible for Patna disaster? Giriraj Singh answers\"/>,\n",
       " <img alt=\"120 descendants have stake in Hyderabad Nizam’s funds: Grandson\" class=\"lazy\" data-original=\"https://www.hindustantimes.com/rf/image_size_90x90/HT/p2/2019/10/04/Pictures/nizam-osman-ali-khan-nizam-hyderabad_390d8142-e642-11e9-bf1a-4811dd02bcdc.jpg\" src=\"https://www.hindustantimes.com/res/img/app-images/HomePageV1/zero.gif\" title=\"120 descendants have stake in Hyderabad Nizam’s funds: Grandson\"/>,\n",
       " <img alt=\"Hindustantimes Logo\" src=\"https://www.hindustantimes.com/res/images/ht-copy.png\" title=\"Hindustantimes Logo\"/>,\n",
       " <img alt=\"In UN building, Donald Trump sees a real estate deal that got away\" src=\"https://www.hindustantimes.com/rf/image_size_90x90/HT/p2/2019/09/23/Pictures/conference-minister-president-washington-joint-australia-morrison_8842da76-ddc0-11e9-99da-c4edc6fcabc7.jpg\" title=\"In UN building, Donald Trump sees a real estate deal that got away\"/>,\n",
       " <img alt=\"Housing sales dips 18 per cent in July-September quarter across top 7 cities: Report\" src=\"https://www.hindustantimes.com/rf/image_size_90x90/HT/p2/2019/09/30/Pictures/gurugram-expressway-gurugram-hindustan-thursday-project-residential_6e77d842-e35d-11e9-939f-ba4a7f73df5c.JPG\" title=\"Housing sales dips 18 per cent in July-September quarter across top 7 cities: Report\"/>,\n",
       " <img alt=\"Brexit takes wrecking ball to British housing market\" src=\"https://www.hindustantimes.com/rf/image_size_90x90/HT/p2/2019/09/29/Pictures/shard-london-bridge_70a37022-e27c-11e9-b0cd-667d8786d605.jpg\" title=\"Brexit takes wrecking ball to British housing market\"/>,\n",
       " <img alt=\"Residents go with the flow, use smart tech to save water\" src=\"https://www.hindustantimes.com/rf/image_size_90x90/HT/p2/2019/09/27/Pictures/city-and-sustainability-design-vector-ilustration_d1ba3014-e126-11e9-a910-fb95b571a1f5.jpg\" title=\"Residents go with the flow, use smart tech to save water\"/>,\n",
       " <img alt=\"Indiabulls issued notice by Delhi HC over alleged illegalities and violations\" src=\"https://www.hindustantimes.com/rf/image_size_90x90/HT/p2/2019/09/28/Pictures/xxx_03544332-e1b6-11e9-b0cd-667d8786d605.jpg\" title=\"Indiabulls issued notice by Delhi HC over alleged illegalities and violations\"/>]"
      ]
     },
     "execution_count": 63,
     "metadata": {},
     "output_type": "execute_result"
    }
   ],
   "source": [
    "soup.find_all(\"img\")"
   ]
  },
  {
   "cell_type": "code",
   "execution_count": 64,
   "metadata": {},
   "outputs": [
    {
     "name": "stdout",
     "output_type": "stream",
     "text": [
      "https://sb.scorecardresearch.com/p?c1=2&c2=6035286&cv=2.0&cj=1\n",
      "https://q.quora.com/_/ad/18d72aacafe84701a5b30e418a8a6611/pixel?tag=ViewContent&noscript=1\n",
      "https://www.hindustantimes.com/images/app-images/2019/4/authors/logo-ht.png\n",
      "https://www.hindustantimes.com/images/app-images/2019/4/authors/source_weather-cm.png\n",
      "https://www.hindustantimes.com/images/app-images/ht/default_author.png\n",
      "https://www.hindustantimes.com/rf/image_size_960x540/HT/p2/2019/09/23/Pictures/conference-minister-president-washington-joint-australia-morrison_83d8aef2-ddc0-11e9-99da-c4edc6fcabc7.jpg\n",
      "https://www.hindustantimes.com/rf/image_size_444x250/HT/p2/2019/10/04/Pictures/_cf4d1006-e6b4-11e9-939f-ba4a7f73df5c.png\n",
      "https://www.hindustantimes.com/rf/image_size_444x250/HT/p2/2019/10/04/Pictures/campaign-muhammad-elections-political-islamabad-organisation-islamic_b8f79ae4-e6c6-11e9-bf1a-4811dd02bcdc.jpg\n",
      "https://www.hindustantimes.com/rf/image_size_444x250/HT/p2/2019/10/04/Pictures/rbi-imposed-operational-restriction-on-pmc-bank_9ba58494-e6bf-11e9-bf1a-4811dd02bcdc.jpg\n",
      "https://www.hindustantimes.com/rf/image_size_444x250/HT/p2/2019/10/04/Pictures/shutdown-after-abrogation-of-article-370_b2e12c44-e69c-11e9-939f-ba4a7f73df5c.jpg\n",
      "https://www.hindustantimes.com/rf/image_size_444x250/HT/p2/2019/10/04/Pictures/national-security-advisor-center-doval-media-national_948cae16-e69d-11e9-bf1a-4811dd02bcdc.JPG\n",
      "https://www.hindustantimes.com/rf/image_size_444x250/HT/p2/2019/10/04/Pictures/_8a56f7f6-e6a4-11e9-bf1a-4811dd02bcdc.jpg\n",
      "https://www.hindustantimes.com/rf/image_size_444x250/HT/p2/2019/10/04/Pictures/pakistan-foreign-minister-nations-mehmood-qureshi-addresses_2d5cdc32-e681-11e9-bf1a-4811dd02bcdc.jpg\n",
      "https://www.hindustantimes.com/rf/image_size_444x250/HT/p2/2019/10/04/Pictures/ind-vs-sa-1st-test-match-day_cc3d8cf0-e67e-11e9-939f-ba4a7f73df5c.jpg\n",
      "https://www.hindustantimes.com/res/img/app-images/HomePageV1/zero.gif\n",
      "https://www.hindustantimes.com/res/img/app-images/HomePageV1/zero.gif\n",
      "https://www.hindustantimes.com/res/img/app-images/HomePageV1/zero.gif\n",
      "https://www.hindustantimes.com/res/img/app-images/HomePageV1/zero.gif\n",
      "https://www.hindustantimes.com/res/img/app-images/HomePageV1/zero.gif\n",
      "https://www.hindustantimes.com/res/img/app-images/HomePageV1/zero.gif\n",
      "https://www.hindustantimes.com/res/img/app-images/HomePageV1/zero.gif\n",
      "https://www.hindustantimes.com/res/img/app-images/HomePageV1/zero.gif\n",
      "https://www.hindustantimes.com/res/img/app-images/HomePageV1/zero.gif\n",
      "https://www.hindustantimes.com/res/img/app-images/HomePageV1/zero.gif\n",
      "https://www.hindustantimes.com/res/img/app-images/HomePageV1/zero.gif\n",
      "https://www.hindustantimes.com/res/img/app-images/HomePageV1/zero.gif\n",
      "https://www.hindustantimes.com/res/images/ht-copy.png\n",
      "https://www.hindustantimes.com/rf/image_size_90x90/HT/p2/2019/09/23/Pictures/conference-minister-president-washington-joint-australia-morrison_8842da76-ddc0-11e9-99da-c4edc6fcabc7.jpg\n",
      "https://www.hindustantimes.com/rf/image_size_90x90/HT/p2/2019/09/30/Pictures/gurugram-expressway-gurugram-hindustan-thursday-project-residential_6e77d842-e35d-11e9-939f-ba4a7f73df5c.JPG\n",
      "https://www.hindustantimes.com/rf/image_size_90x90/HT/p2/2019/09/29/Pictures/shard-london-bridge_70a37022-e27c-11e9-b0cd-667d8786d605.jpg\n",
      "https://www.hindustantimes.com/rf/image_size_90x90/HT/p2/2019/09/27/Pictures/city-and-sustainability-design-vector-ilustration_d1ba3014-e126-11e9-a910-fb95b571a1f5.jpg\n",
      "https://www.hindustantimes.com/rf/image_size_90x90/HT/p2/2019/09/28/Pictures/xxx_03544332-e1b6-11e9-b0cd-667d8786d605.jpg\n"
     ]
    }
   ],
   "source": [
    "for images in soup.find_all(\"img\"):\n",
    "    print(images.get(\"src\"))"
   ]
  },
  {
   "cell_type": "code",
   "execution_count": 65,
   "metadata": {},
   "outputs": [
    {
     "name": "stdout",
     "output_type": "stream",
     "text": [
      "\r\n",
      "\t\t\t\t\tOct 04, 2019-Friday -°C\n",
      "\n",
      "\r\n",
      "\t\t\t\t\t\t\tHumidity  -\n",
      "\n",
      "\r\n",
      "\t\t\t\t\t\t\tWind  -\n",
      "\n",
      "\n",
      "Metro cities -  Delhi, Mumbai,\r\n",
      "\t\t\t\t\tChennai, \r\n",
      "\t\t\t\t\tKolkata\n",
      "\n",
      "\n",
      "Other cities -  Noida, Gurgaon,\r\n",
      "\t\t\t\t\tBengaluru, Hyderabad, Bhopal\r\n",
      "\t\t\t\t\t, Chandigarh , Dehradun,\r\n",
      "\t\t\t\t\tIndore,\r\n",
      "\t\t\t\t\tJaipur,\r\n",
      "\t\t\t\t\tLucknow, Patna,\r\n",
      "\t\t\t\t\tRanchi\n",
      "\n",
      "\r\n",
      "\t\t\t\t\tPowered by \n",
      "\n",
      "As President Donald Trump visits the United Nations building in New York this week, he won’t be focused only on the global challenges facing the world body — he’s still reliving the real estate deal there that got away.\n",
      "More than a decade later, Trump vividly recalls the overtures he made to rebuild the 39-story tower in the early 2000s and posits that he could have done a better job with the $2.3 billion project, which took about three years longer than anticipated and came in more than $400 million over budget.\n",
      "In the leadup to this week’s UN General Assembly meetings, the president reminisced with reporters on Air Force One this past week about his efforts to win the project.\n",
      "“I offered to rebuild it at a tiny fraction of what they were going to build it for,” he said.\n",
      "In 2005, then-developer Trump went before a US Senate committee to complain that the UN was bungling the project. “They don’t know what they want, they don’t know what they have, they don’t know what they’re doing,” Trump said.\n",
      "He appealed to the panel to let him manage the project. He would even waive his fee, he said. In the end, he didn’t get the project, but his words were music to senators concerned about costs.\n",
      "“When can you start?” said one appreciative lawmaker, Sen. Mark Dayton, D-Minn., who went on to serve as the state’s governor for two terms.\n",
      "Trump is scheduled to speak to the UN General Assembly on Tuesday. He was asked if he’ll think back to his real estate days when he returns to the UN compound. It sounded like he certainly would.\n",
      "“I was a very good real estate developer,” he reminisced. He added that he had correctly predicted “It will end up being much more” than expected.\n",
      "“They didn’t even know what New York steam was versus a boiler,” he said of the developers. “They knew nothing.”\n",
      "Trump said an ambassador, he believed from Sweden, contacted him to ask how he could have built Trump World Tower, right across the street from the UN compound, for far less than what was envisioned for the smaller U.N. headquarters.\n",
      "“I said, ‘Because I know how the game is played,’“ Trump recalled.\n",
      "Trump said he could have completed the project for about $500 million. He would have used marble instead of terrazzo, which is much more expensive, he recalled.\n",
      "The UN compound was largely built between 1949 and 1952. Over time, it no longer conformed to safety and fire codes, or to security needs. The US provided about $488 million to help pay for the renovations, according to a 2015 Government Accountability Office report.\n",
      "Trump clearly got a kick out of rehashing the episode. It gave him one more chance to relive his developer days.\n",
      "“It would have been a great job,” he declared.\n",
      "\n",
      "First Published:\r\n",
      "\t\t\t\t\t\t\t\t\tSep 23, 2019 10:46 IST\n"
     ]
    }
   ],
   "source": [
    "for para in soup.find_all(\"p\"):\n",
    "    print(para.text)"
   ]
  },
  {
   "cell_type": "code",
   "execution_count": 66,
   "metadata": {},
   "outputs": [
    {
     "data": {
      "text/plain": [
       "datetime.datetime(2019, 9, 23, 10, 46, 12, tzinfo=tzoffset(None, 19800))"
      ]
     },
     "execution_count": 66,
     "metadata": {},
     "output_type": "execute_result"
    }
   ],
   "source": [
    "htinfo.publish_date"
   ]
  },
  {
   "cell_type": "code",
   "execution_count": 69,
   "metadata": {},
   "outputs": [
    {
     "name": "stdout",
     "output_type": "stream",
     "text": [
      "https://www.hindustantimes.com/real-estate/in-un-building-donald-trump-sees-a-real-estate-deal-that-got-away/story-zoRCT8eXziIeSTsSQE0gHI.html\n",
      "https://m.hindustantimes.com/real-estate/in-un-building-donald-trump-sees-a-real-estate-deal-that-got-away/story-zoRCT8eXziIeSTsSQE0gHI.html\n",
      "https://m.hindustantimes.com/real-estate/in-un-building-donald-trump-sees-a-real-estate-deal-that-got-away/story-zoRCT8eXziIeSTsSQE0gHI_amp.html\n",
      "https://m.hindustantimes.com/real-estate/in-un-building-donald-trump-sees-a-real-estate-deal-that-got-away/story-zoRCT8eXziIeSTsSQE0gHI.html\n",
      "https://www.hindustantimes.com/rf/image_size_960x540/HT/p2/2019/09/23/Pictures/conference-minister-president-washington-joint-australia-morrison_83d8aef2-ddc0-11e9-99da-c4edc6fcabc7.jpg\n",
      "/manifest.json\n",
      "/images/app-images/2019/2/icon-57x57.png\n",
      "/images/app-images/2019/2/icon-72x72.png\n",
      "/images/app-images/2019/2/icon-114x114.png\n",
      "/images/app-images/2019/2/icon-120x120.png\n",
      "/images/app-images/2019/2/icon-144x144.png\n",
      "/images/app-images/2019/2/icon-152x152.png\n",
      "/images/app-images/2019/2/icon-192x192.png\n",
      "/images/app-images/2019/2/icon-512x512.png\n",
      "https://fonts.googleapis.com/\n",
      "https://www.googletagservices.com/\n",
      "https://ib.adnxs.com/\n",
      "https://acdn.adnxs.com/\n",
      "https://tpc.googlesyndication.com/\n",
      "https://securepubads.g.doubleclick.net/\n",
      "https://adservice.google.com/\n",
      "https://fonts.gstatic.com/\n",
      "https://www.google.com/\n",
      "https://adservice.google.co.in/\n",
      "https://googleads.g.doubleclick.net/\n",
      "https://a.quora.com/\n",
      "https://notify.hindustantimes.com/\n",
      "https://analytics.htmedia.in/\n",
      "https://ads.pubmatic.com/\n",
      "https://www.google-analytics.com/\n",
      "https://www.hindustantimes.com/res/css-ns/fonts/PTSerif-Regular.woff2\n"
     ]
    }
   ],
   "source": [
    "for links in soup.find_all(\"link\"):\n",
    "    print(links.get('href'))"
   ]
  },
  {
   "cell_type": "code",
   "execution_count": 30,
   "metadata": {},
   "outputs": [],
   "source": [
    "import newspaper"
   ]
  },
  {
   "cell_type": "code",
   "execution_count": 31,
   "metadata": {},
   "outputs": [],
   "source": [
    "newinfo=newspaper.build(\"https://www.hindustantimes.com/real-estate/in-un-building-donald-trump-sees-a-real-estate-deal-that-got-away/story-zoRCT8eXziIeSTsSQE0gHI.html\")"
   ]
  },
  {
   "cell_type": "code",
   "execution_count": 34,
   "metadata": {},
   "outputs": [
    {
     "name": "stdout",
     "output_type": "stream",
     "text": [
      "https://www.hindustantimes.com/haryana/haryana-assembly-election-2019-ashok-tanwar-resigns-from-congress-poll-panels-says-left-with-no-option/story-0Eunlt2H1mPo4ToG3vDDBO.html\n",
      "https://www.hindustantimes.com/more-lifestyle/navratri-2019-day-6-goddess-katyayani-shubh-muhurat-puja-timings-ghatasthapana-and-significance/story-v3JrspJ3qB1UOfV6s8paeN.html\n",
      "https://www.hindustantimes.com/fashion-and-trends/happy-navratri-2019-tips-and-tricks-to-make-sure-you-look-perfect-through-the-nine-nights-of-navratri/story-TJXY1ePJBXJ4aNG7ZOzjCL.html\n",
      "https://www.hindustantimes.com/education/bihar-police-constable-recruitment-2019-csbc-issues-notification-to-fill-11-880-vacancies-at-csbc-bih-nic-in/story-EepcBEVyL8fbeikCftwbyI.html\n",
      "http://brandleadership.hindustantimes.com/brand_masters/sunil-gupta/premiumness-of-a-brand-is-in-the-minds-of-customers/\n",
      "http://brandleadership.hindustantimes.com/brand_masters/bishwajeet-samal/keeping-legacy-alive-by-changing-with-the-times/\n",
      "http://brandleadership.hindustantimes.com/brand_masters/rachit-hirani/making-videos-more-than-just-snackable/\n",
      "http://brandleadership.hindustantimes.com/brand_masters/navin-khemka/the-meteoric-rise-of-digital-content/\n",
      "http://brandleadership.hindustantimes.com/brand_masters/gautam-shewakramani/sharing-and-growing-the-worlds-knowledge/\n",
      "http://brandleadership.hindustantimes.com/brand_masters/vani-gupta-dandia/using-branded-content-to-make-your-brand-feel-authentic/\n",
      "http://brandleadership.hindustantimes.com/brand_masters/jose-antonio-cachaza/bringing-fans-closer-to-the-game-digitally/\n",
      "http://brandleadership.hindustantimes.com/brand_masters/amer-jaleel/a-veterans-insights-on-the-changing-advertising-landscape/\n",
      "http://brandleadership.hindustantimes.com/brand_masters/sairee-chahal/building-a-more-powerful-internet-for-women/\n",
      "http://brandleadership.hindustantimes.com/brand_masters/kaustubh-nande/technology-that-shapes-our-vision-of-the-future/\n",
      "http://brandleadership.hindustantimes.com/brand_masters/rajesh-kumar-jindal/overcoming-the-fear-of-artificial-intelligence/\n",
      "http://brandleadership.hindustantimes.com/brand_masters/roshni-das/using-great-content-marketing-to-drive-motivation/\n",
      "http://brandleadership.hindustantimes.com/brand_masters/rajshree-bakshi/staying-ahead-of-an-audience-that-stays-ahead-of-the-market/\n",
      "http://brandleadership.hindustantimes.com/brand_masters/jyoti-kumar-bansal/creativity-and-innovation-go-hand-in-hand/\n",
      "http://brandleadership.hindustantimes.com/brand_masters/divya-dixit/content-that-appeals-to-our-vernacular-pride/\n",
      "http://brandleadership.hindustantimes.com/brand_masters/manav-sethi/unlocking-the-content-potential-of-our-regional-languages/\n",
      "http://brandleadership.hindustantimes.com/brand_masters/ayoshmita-biswas/using-marketing-to-educate-the-customer/\n",
      "http://brandleadership.hindustantimes.com/brand_masters/mahesh-israni/talking-to-and-not-at-the-customer/\n",
      "http://brandleadership.hindustantimes.com/brand_masters/srinivasa-rao/listen-to-customers-to-enhance-their-digital-journeys/\n",
      "http://brandleadership.hindustantimes.com/brand_masters/smita-murarka/how-a-brand-can-speak-to-a-womans-confidence/\n",
      "http://brandleadership.hindustantimes.com/brand_masters/veetika-joshi-deoras/adopting-ai-smartly-for-your-business/\n",
      "http://brandleadership.hindustantimes.com/brand_masters/piyush-bhargava/advancing-healthcare-one-digital-step-at-a-time/\n",
      "http://brandleadership.hindustantimes.com/brand_masters/amit-sarda/innovative-ways-to-make-data-work-for-a-brand/\n",
      "http://brandleadership.hindustantimes.com/brand_masters/ajay-row/making-big-data-work-for-your-marketing-strategies/\n",
      "http://brandleadership.hindustantimes.com/brand_masters/balaji-vaidyanathan/using-content-to-increase-financial-awareness/\n",
      "http://brandleadership.hindustantimes.com/brand_masters/venkat-mallik/using-data-to-personalise-customer-experience/\n",
      "http://brandleadership.hindustantimes.com/brand_masters/pankaj-gupta/creating-campaigns-that-are-instantly-recognisable/\n",
      "http://brandleadership.hindustantimes.com/brand_masters/balaji-viswanath/always-getting-straight-to-the-point-in-marketing/\n",
      "http://brandleadership.hindustantimes.com/brand_masters/vishwajeet-parashar/how-to-speak-to-millennials-through-digital-campaigns/\n",
      "http://brandleadership.hindustantimes.com/brand_masters/yashish-dahiya/guiding-the-future-of-insurance-plans-by-voice/\n",
      "http://brandleadership.hindustantimes.com/brand_masters/shaji-varghese/how-to-redefine-a-brands-image-by-going-digital/\n",
      "http://brandleadership.hindustantimes.com/brand_masters/ajay-kakar/using-digital-means-to-help-explain-finance-better/\n",
      "http://brandleadership.hindustantimes.com/brand_masters/karan-kumar/marketing-an-ethnic-brand-to-the-modern-audience/\n",
      "http://brandleadership.hindustantimes.com/brand_masters/alok-shankar/making-the-world-a-healthier-place/\n",
      "http://brandleadership.hindustantimes.com/brand_masters/pushpanjali-banerji/mixing-drink-marketing-strategies-for-the-millennial-audience/\n",
      "http://brandleadership.hindustantimes.com/brand_masters/priyanka-gill/how-to-market-content-for-women-by-women-to-women/\n",
      "http://brandleadership.hindustantimes.com/brand_masters/sumeet-singh/choosing-the-right-platform-for-your-campaign/\n",
      "http://brandleadership.hindustantimes.com/brand_masters/gaurav-mehta/the-challenges-and-opportunities-with-data/\n",
      "http://brandleadership.hindustantimes.com/brand_masters/nikhil-rastogi/the-profile-of-the-new-age-cmo/\n",
      "http://brandleadership.hindustantimes.com/brand_masters/shravani-dang/top-trends-in-the-communication-industry/\n",
      "http://brandleadership.hindustantimes.com/brand_masters/sandeep-nagpal/automation-for-modern-day-event-planning/\n",
      "http://brandleadership.hindustantimes.com/brand_masters/manish-bhatia/making-the-consumer-the-centre-of-your-campaign/\n",
      "http://brandleadership.hindustantimes.com/brand_masters/amit-tiwari/the-future-of-marketing-is-marketech/\n",
      "http://brandleadership.hindustantimes.com/brand_masters/yadvinder-singh-guleria/driving-the-scooter-revolution-in-india/\n",
      "http://brandleadership.hindustantimes.com/brand_masters/kv-sridhar/empowering-the-world-with-artificial-intelligence/\n",
      "http://brandleadership.hindustantimes.com/brand_masters/pankaj_rana/setting-yourself-apart-in-a-competitive-industry/\n",
      "http://brandleadership.hindustantimes.com/brand_masters/amit_bajaj/how-to-engage-better-with-your-customers/\n",
      "https://www.linkedin.com/pulse/i-believe-ai-cause-thats-why-joined-ibm-watson-jodie-sangster/?published=t\n",
      "https://www.livemint.com/Technology/gqbaJ99FjKTfwTJtUOGC9I/Cloud-technologies-growing-fast-in-India-Prasad-Rai.html\n",
      "https://www.livehindustan.com/national/story-ht-brand-studio-live-to-understand-customer-better-is-the-key-of-good-marketing-said-kedar-apte-2191245.html\n",
      "https://punjabi.hindustantimes.com/punjab/manjha/news\n",
      "https://punjabi.hindustantimes.com/punjab/doaba/news\n",
      "https://punjabi.hindustantimes.com/punjab/malwa/news\n",
      "https://punjabi.hindustantimes.com/punjab/story-senior-assistant-takes-bribe-of-rs-20000-1838916.html\n",
      "https://punjabi.hindustantimes.com/punjab/story-punjab-government-claims-that-farmers-saved-300-crores-in-two-years-1838873.html\n",
      "https://punjabi.hindustantimes.com/punjab/story-assailants-submit-their-firearms-to-police-stations-or-ammunition-dealers-1838897.html\n",
      "https://punjabi.hindustantimes.com/punjab/story-33-candidates-for-four-assembly-constituencies-in-the-state-of-punjab-1838898.html\n",
      "https://punjabi.hindustantimes.com/india/news\n",
      "https://punjabi.hindustantimes.com/india/story-fir-lodged-against-nearly-50-celebrities-including-ramchandra-guha-mani-ratnam-and-aparna-in-muzaffarpur-1838913.html\n",
      "https://punjabi.hindustantimes.com/india/story-unga-mein-kashmir-par-turkey-pakistan-or-malysia-ke-bayaan-par-bharat-ka-jawab-1838915.html\n",
      "https://punjabi.hindustantimes.com/india/story-indian-foreign-minister-attacks-on-pak-in-world-economic-forum-1838914.html\n",
      "https://punjabi.hindustantimes.com/india/story-ajit-dobhal-to-naval-chief-of-10-countries-we-should-come-together-for-change-1838909.html\n",
      "https://punjabi.hindustantimes.com/nri/news\n",
      "https://punjabi.hindustantimes.com/nri/story-us-first-turbaned-cop-shot-dead-in-texas-1838336.html\n",
      "https://punjabi.hindustantimes.com/india/story-over-4700-complaints-of-nri-husbands-leaving-wives-in-the-last-10-years-says-ncw-1838296.html\n",
      "https://punjabi.hindustantimes.com/nri/story-punjabi-family-is-reaching-kartarpur-sahib-and-sultanpur-lodhi-from-canada-1838275.html\n",
      "https://punjabi.hindustantimes.com/world/story-sikh-woman-arrested-in-malaysia-1838205.html\n",
      "https://punjabi.hindustantimes.com/world/news\n",
      "https://punjabi.hindustantimes.com/world/story-it-company-hp-will-sack-9000-employees-1838923.html\n",
      "https://punjabi.hindustantimes.com/world/story-pakistan-supreme-court-asks-govt-for-report-on-framework-for-protection-of-minorities-1838877.html\n",
      "https://punjabi.hindustantimes.com/world/story-now-pak-will-not-be-able-to-arrest-an-indian-pilot-1838864.html\n",
      "https://punjabi.hindustantimes.com/world/story-is-pak-army-preparing-to-coup-imran-khan-govt-1838861.html\n",
      "https://punjabi.hindustantimes.com/entertainment/pollywood/news\n",
      "https://punjabi.hindustantimes.com/entertainment/bollywood/news\n",
      "https://punjabi.hindustantimes.com/entertainment/music-masti/news\n",
      "https://punjabi.hindustantimes.com/entertainment/story-kareena-kapoor-is-digging-the-ground-with-a-shovel-1838918.html\n",
      "https://punjabi.hindustantimes.com/entertainment/story-akshay-kumar-in-real-life-saves-an-unconscious-stuntman-on-sets-of-maniesh-paul-show-1838872.html\n",
      "https://punjabi.hindustantimes.com/entertainment/story-amitabh-bachchan-upset-with-flying-kiss-of-contestant-from-haryana-1838868.html\n",
      "https://punjabi.hindustantimes.com/entertainment/story-sara-ali-khan-reveals-how-her-mother-amrita-singh-reacted-to-saif-ali-khan-kareena-kapoor-wedding-after-appeared-on-the-cover-of-magazine-1838762.html\n",
      "https://punjabi.hindustantimes.com/lifestyle/health/news\n",
      "https://punjabi.hindustantimes.com/tech/news\n",
      "https://punjabi.hindustantimes.com/lifestyle/story-if-you-drink-tea-with-tea-bags-definitely-read-this-news-1838300.html\n",
      "https://punjabi.hindustantimes.com/lifestyle/story-navratri-vrat-recepie-eat-spicy-bhel-in-shardiya-navratri-vrat-1838181.html\n",
      "https://punjabi.hindustantimes.com/story-you-can-live-18-hours-fit-gurbax-chahal-1837725.html\n",
      "https://punjabi.hindustantimes.com/punjab/story-orders-to-create-a-clean-rating-for-operators-with-online-food-supply-1836832.html\n",
      "https://punjabi.hindustantimes.com/sports/news\n",
      "https://punjabi.hindustantimes.com/punjab/story-federation-gold-cup-of-volleyball-2019-karnataka-kerala-and-andhra-pradesh-register-wins-1838651.html\n",
      "https://punjabi.hindustantimes.com/sports/story-indvssa-1st-test-day-1-end-of-first-day-game-due-to-rain-india-score-202-0-1838638.html\n",
      "https://punjabi.hindustantimes.com/sports/story-volleyball-federation-gold-cup-tamil-nadu-wins-maharashtra-1838611.html\n",
      "https://punjabi.hindustantimes.com/sports/story-akshay-kumar-to-inauguarate-ht-gifa-today-1838342.html\n",
      "https://punjabi.hindustantimes.com/politics/news\n",
      "https://punjabi.hindustantimes.com/politics/story-bjp-is-doing-politics-only-in-name-of-bapu-say-akhilesh-yadav-1838702.html\n",
      "https://punjabi.hindustantimes.com/politics/story-bjp-first-follow-gandhi-ji-path-and-then-talk-about-him-says-priyanka-1838701.html\n",
      "https://punjabi.hindustantimes.com/politics/story-mamta-banerjee-retort-on-amit-shah-statement-of-nrc-1838613.html\n",
      "https://punjabi.hindustantimes.com/punjab/story-capt-amarinder-says-navjot-sidhu-not-in-cabinet-1837672.html\n",
      "https://punjabi.hindustantimes.com/special/news\n",
      "https://punjabi.hindustantimes.com/special/story-the-most-expensive-gold-statue-of-these-navratre-is-captivating-people-s-minds-1838820.html\n",
      "https://punjabi.hindustantimes.com/offbeat/story-meet-the-smallest-horse-bombel-in-the-world-he-gears-up-to-children-1836549.html\n",
      "https://punjabi.hindustantimes.com/special/story-why-is-s-400-missile-defense-system-important-for-india-1835740.html\n",
      "https://punjabi.hindustantimes.com/special/story-income-tax-relief-for-middle-class-finance-ministry-nirmala-sitharaman-1835658.html\n",
      "https://punjabi.hindustantimes.com/offbeat/news\n",
      "https://punjabi.hindustantimes.com/offbeat/story-the-doctors-surprised-at-seeing-the-position-of-the-organs-of-this-man-1838818.html\n",
      "https://punjabi.hindustantimes.com/offbeat/story-servant-played-such-a-game-that-became-a-millionaire-under-the-owner-nose-1838703.html\n",
      "https://punjabi.hindustantimes.com/offbeat/story-9-ft-long-python-gobbles-up-cat-in-vadodara-vejalpur-village-rescued-1838699.html\n",
      "https://punjabi.hindustantimes.com/offbeat/story-six-elderly-people-forced-to-eat-excreta-on-suspicion-of-witchcraft-broken-teeth-1838696.html\n",
      "https://punjabi.hindustantimes.com/business/news\n",
      "https://punjabi.hindustantimes.com/business/story-rbi-change-neft-fund-transfer-timing-now-service-will-be-available-24-hour-1838870.html\n",
      "https://punjabi.hindustantimes.com/punjab/story-a-mega-auction-of-industrial-and-commercial-properties-in-punjab-1838878.html\n",
      "https://punjabi.hindustantimes.com/business/story-withdraw-cash-without-debit-card-from-sbi-bank-atm-from-anywhere-1838862.html\n",
      "https://punjabi.hindustantimes.com/business/story-pmc-bank-scam-hdil-executive-chairman-in-custody-and-md-arrested-1838816.html\n",
      "https://punjabi.hindustantimes.com/tech/gadget/news\n",
      "https://punjabi.hindustantimes.com/tech/auto/news\n",
      "https://punjabi.hindustantimes.com/india/story-google-will-help-protect-your-password-1838875.html\n",
      "https://punjabi.hindustantimes.com/india/story-youtube-will-now-let-you-auto-delete-your-video-search-and-history-1838751.html\n",
      "https://punjabi.hindustantimes.com/tech/story-samsung-galaxy-m30s-and-galaxy-m10s-phones-launched-know-features-and-price-1837555.html\n",
      "https://punjabi.hindustantimes.com/tech/story-every-user-should-know-these-best-features-of-whatsapp-1837292.html\n",
      "https://punjabi.hindustantimes.com/photos/manoranjan/the-bride-to-be-came-out-with-pictures-of-drama-queen-guard-sawant-1-1832841\n",
      "https://punjabi.hindustantimes.com/photos/azab-gazab/more-than-150000-pilgrims-made-amarnath-yatra-in-11-days-pictures-1-1831246\n",
      "https://punjabi.hindustantimes.com/photos/manoranjan/ram-kapoor-changed-his-look-see-pictures-1-1830736\n",
      "https://punjabi.hindustantimes.com/photos/manoranjan/international-yoga-day-2019-these-6-hollywood-celebrities-always-do-yoga-see-pics-1-1828909\n",
      "https://punjabi.hindustantimes.com/lok-sabha-elections/news\n",
      "https://punjabi.hindustantimes.com/world/story-china-congratulatory-letter-sent-to-the-indian-lok-sabha-speakers-1829617.html\n",
      "https://punjabi.hindustantimes.com/india/story-how-congress-lost-to-seven-seats-in-delhi-loksabha-election-2019-rahul-gandhi-himself-will-review-1829397.html\n",
      "https://punjabi.hindustantimes.com/lok-sabha-elections/story-disclosure-of-ashok-lavasa-dissent-note-may-endanger-life-or-physical-safety-of-individual-says-election-commission-1829373.html\n",
      "https://punjabi.hindustantimes.com/lok-sabha-elections/story-india-general-election-most-inclusive-poll-un-conference-told-1828168.html\n",
      "https://punjabi.hindustantimes.com/career-and-jobs/news\n",
      "https://punjabi.hindustantimes.com/career-and-jobs/story-tata-memorial-hospital-withdraws-posts-salaries-rs-78800-1838926.html\n",
      "https://punjabi.hindustantimes.com/career-and-jobs/story-recruitment-of-assistant-in-supreme-court-for-graduates-1838901.html\n",
      "https://punjabi.hindustantimes.com/career-and-jobs/story-sainik-schools-society-has-extended-the-last-date-of-submission-of-applications-extended-1838809.html\n",
      "https://punjabi.hindustantimes.com/career-and-jobs/story-railway-recruitment-2019-apply-online-for-rrc-99-sr-clerk-cum-typist-posts-1838765.html\n",
      "https://punjabi.hindustantimes.com/breaking/news\n",
      "https://punjabi.hindustantimes.com/india/story-congress-releases-its-list-of-star-campaigners-for-upcoming-haryana-assembly-polls-includes-sonia-gandhi-1838902.html\n",
      "https://punjabi.hindustantimes.com/lokpriye-khabre/news\n",
      "https://punjabi.hindustantimes.com/india/story-indian-army-needs-granthis-padris-pandits-and-maulvis-1838843.html\n",
      "https://punjabi.hindustantimes.com/india/story-piyush-goyal-and-harsimrat-kaur-badal-flag-off-sarbat-da-bhala-1838836.html\n",
      "https://punjabi.hindustantimes.com/india/story-suspended-managing-director-of-the-pmc-bank-detained-by-economic-offence-wing-1838900.html\n",
      "https://punjabi.hindustantimes.com/abhi-abhi/news\n",
      "https://punjabi.hindustantimes.com/punjab/story-first-winner-gets-prize-of-rs-71000-in-parkash-prabha-online-competition-1838876.html\n",
      "https://punjabi.hindustantimes.com/india/story-election-commission-may-reconsider-penal-provision-on-evm-says-cec-sunil-arora-1827270.html\n",
      "https://punjabi.hindustantimes.com/lok-sabha-elections/story-bel-evms-are-non-tamperable-says-cmd-1827104.html\n",
      "https://punjabi.hindustantimes.com/india/story-rs-60000-crore-spent-over-general-elections-of-india-1826967.html\n",
      "https://punjabi.hindustantimes.com/india/story-azam-appeared-sit-again-with-son-abdullah-reached-the-police-station-1838899.html\n",
      "https://punjabi.hindustantimes.com/india/story-1900-people-died-due-to-monsoon-rains-and-floods-in-the-country-1838869.html\n",
      "https://punjabi.hindustantimes.com/world/story-anti-imran-khan-wave-in-pakistan-1838828.html\n",
      "https://punjabi.hindustantimes.com/politics/story-mamata-meets-modi-in-a-desperate-attempt-to-save-rajiv-says-kailash-vijayvarigiya-1837515.html\n",
      "https://punjabi.hindustantimes.com/offbeat/story-video-sparks-rumours-about-chinese-loch-ness-monster-turns-out-to-be-this-1837744.html\n",
      "https://punjabi.hindustantimes.com/photos/manoranjan/malaika-arora-troll-on-her-yoga-video-by-users-1-1826139\n",
      "https://punjabi.hindustantimes.com/photos/manoranjan/the-mate-gala-in-a-different-look-in-priyanka-during-the-year-2019-1-1823067\n",
      "https://punjabi.hindustantimes.com/photos/manoranjan/match-between-bangalore-and-rajasthan-rainy-days-due-to-rain-1-1822091\n",
      "https://punjabi.hindustantimes.com/videos/manoranjan/look-at-priyanka-on-a-different-look-1-1827482\n",
      "https://punjabi.hindustantimes.com/videos/manoranjan/mahendra-singh-dhoni-picks-up-vote-at-ranchi-1-1827481\n",
      "https://punjabi.hindustantimes.com/videos/manoranjan/tabbu-spotted-at-sun-adn-sun-hotel-1-1827480\n",
      "https://punjabi.hindustantimes.com/videos/punjab/transformers-exploded-in-chandigarh-1-1827479\n",
      "https://punjabi.hindustantimes.com/videos/punjab/bibi-bhattal-slapped-the-young-slap-1-1827478\n",
      "https://punjabi.hindustantimes.com/videos/punjab/delhi-chief-minister-kejriwal-slapped-him-by-unidentified-person-1-1827476\n",
      "https://punjabi.hindustantimes.com/videos/punjab/sunny-deol-road-shows-in-gurdaspur-1-1827472\n",
      "https://punjabi.hindustantimes.com/sports/story-pakistan-vs-sri-lanka-1st-odi-pak-vs-sl-match-abandoned-without-toss-1838297.html\n",
      "https://punjabi.hindustantimes.com/nri/story-gurdas-mann-firm-on-his-comment-on-hindi-1837992.html\n",
      "https://punjabi.hindustantimes.com/tech/story-gionee-smart-life-watch-in-india-know-price-and-specification-1837193.html\n",
      "https://punjabi.hindustantimes.com/lifestyle/news\n",
      "https://punjabi.hindustantimes.com/lifestyle/story-ganpati-visarjan-2019-delicious-recipe-of-making-boondi-laddoo-to-please-lord-ganesha-1836806.html\n",
      "https://punjabi.hindustantimes.com/india/must-read/news\n",
      "https://punjabi.hindustantimes.com/india/story-in-terror-funding-case-court-extended-the-judicial-custody-of-yasin-malik-till-23-october-1838874.html\n",
      "https://punjabi.hindustantimes.com/entertainment/news\n",
      "https://www.livehindustan.com/national/story-bjp-supporters-arrested-for-attacking-student-who-assaulted-babul-supriyo-2782146.html\n",
      "https://www.livehindustan.com/national/story-unga-mein-kashmir-par-turkey-pakistan-or-malysia-ke-bayaan-par-bharat-ka-jawab-2781532.html\n",
      "https://www.livehindustan.com/national/story-giriraj-singh-says-if-nitish-kumar-gets-all-the-praise-then-he-must-be-critisized-2781483.html\n",
      "https://www.livehindustan.com/national/story-suspended-managing-director-of-the-pmc-bank-detained-by-economic-offence-wing-2781873.html\n",
      "https://www.livehindustan.com/national/story-ajit-dobhal-to-naval-chief-of-10-countries-we-should-come-together-for-change-2781696.html\n",
      "https://punjabi.hindustantimes.com/lifestyle/health/story-know-how-gulkand-is-beneficial-for-women-health-1837550.html\n",
      "https://punjabi.hindustantimes.com/lifestyle/health/story-health-tips-know-the-amazing-health-benefits-of-pahadi-red-buransh-flower-1836401.html\n",
      "https://punjabi.hindustantimes.com/entertainment/story-nikka-zaildar-3-is-attracting-audiences-abundantly-first-day-collection-1837785.html\n",
      "https://punjabi.hindustantimes.com/entertainment/pollywood/story-stars-of-the-punjabi-film-doorbeen-promotions-in-college-1837738.html\n",
      "https://punjabi.hindustantimes.com/entertainment/pollywood/story-diljit-dosanjh-cancels-pakistani-promotoer-s-show-programme-in-california-1836889.html\n",
      "https://punjabi.hindustantimes.com/entertainment/story-hritik-roshan-and-tiger-s-film-war-earns-rs-50-crore-on-first-day-1838715.html\n",
      "https://punjabi.hindustantimes.com/entertainment/bollywood/story-nick-jonas-react-after-watching-wife-priyanka-chopra-movie-the-sky-is-pink-1838616.html\n",
      "https://punjabi.hindustantimes.com/india/story-paresh-rawal-says-sorry-to-gorakhpur-doctor-kafeel-khan-1838639.html\n",
      "https://punjabi.hindustantimes.com/world/story-amrica-s-got-talent-2019-judges-surprised-by-mumbai-s-dance-team-1832689.html\n",
      "https://punjabi.hindustantimes.com/entertainment/music-masti/story-sapna-choudhary-new-song-rang-brown-ni-release-viral-1830956.html\n",
      "https://punjabi.hindustantimes.com/brand-post/news\n",
      "https://punjabi.hindustantimes.com/must-read/news\n",
      "https://www.hindustantimes.com/video/cricket/india-vs-south-africa/\n",
      "https://www.hindustantimes.com/maharashtra/maharashtra-assembly-elections-2019-shiv-sena-announces-list-of-125-candidates/story-yTAIRsDwcs0sju33zmSCMN.html\n",
      "https://www.hindustantimes.com/education/aiims-jipmer-admissions-through-neet-from-2020-harsh-vardhan/story-EGDbDS1GawJpmHrEAWtjQM.html\n",
      "https://www.hindustantimes.com/education/pspcl-assistant-lineman-recruitment-2019-apply-for-3500-vacancies/story-KtDmFqEG5Nv6RuZWn1NCkN.html\n",
      "https://www.hindustantimes.com/columns/why-arvind-kejriwal-has-read-2019-right-opinion/story-NY6f2wikwsdKotyQM2PXWK.html\n",
      "https://marathi.hindustantimes.com/assembly-election/maharashtra-election-2019/political-election-news/story-maharashtra-assembly-election-2019-no-any-fir-against-cm-devendra-fadnavis-in-election-affidavit-form-1820610.html?utm_source=punjabi\n",
      "https://marathi.hindustantimes.com/national-world/story-indian-external-affairs-ministry-on-strongly-criticised-pakistan-prime-minister-imran-khans-remarks-that-called-for-jihad-against-india-1820612.html?utm_source=punjabi\n",
      "https://marathi.hindustantimes.com/assembly-election/maharashtra-election-2019/political-election-news/story-maharashtra-assembly-election-2019-congress-star-campaigners-1820611.html?utm_source=punjabi\n",
      "https://marathi.hindustantimes.com/entertainment/story-akshay-kumar-rescuing-unconscious-man-on-manish-paul-show-1820607.html?utm_source=punjabi\n",
      "https://punjabi.hindustantimes.com/india/story-unga-mein-kashmir-par-turkey-pakistan-or-malysia-ke-bayaan-par-bharat-ka-jawab-1838915.html?utm_source=punjabi\n",
      "https://punjabi.hindustantimes.com/career-and-jobs/story-tata-memorial-hospital-withdraws-posts-salaries-rs-78800-1838926.html?utm_source=punjabi\n",
      "https://punjabi.hindustantimes.com/india/story-congress-releases-its-list-of-star-campaigners-for-upcoming-haryana-assembly-polls-includes-sonia-gandhi-1838902.html?utm_source=punjabi\n",
      "https://punjabi.hindustantimes.com/entertainment/story-kareena-kapoor-is-digging-the-ground-with-a-shovel-1838918.html?utm_source=punjabi\n",
      "https://punjabi.hindustantimes.com/india/story-fir-lodged-against-nearly-50-celebrities-including-ramchandra-guha-mani-ratnam-and-aparna-in-muzaffarpur-1838913.html?utm_source=punjabi\n",
      "https://www.hindustantimes.com/photos/lok-sabha-elections/photos-best-of-2019-lok-sabha-elections-from-ht-photographers/photo-lP4Ba0QAnXSxPJcYjkUAgP.html\n",
      "https://www.hindustantimes.com/cricket/news/\n",
      "https://www.hindustantimes.com/videos/cricket/thought-of-quitting-in-2007-after-being-left-out-odi-world-cup---gambhirvideo/video-41AQfippeJNxh3oUlSClhN.html\n",
      "https://www.hindustantimes.com/it-s-viral/swachh-bharat-mission-2019-amul-celebrates-the-day-with-message-on-recyclable-plastic/story-l2hq61rtgnu8QByPyp0N7L.html\n",
      "https://www.hindustantimes.com/india-news/health-care-for-all-by-2030-india-at-unga/story-1OdPGiVAHV0XwfKo0hjfrL.html\n",
      "https://healthshots.hindustantimes.com/nutrition/want-to-be-healthy-dont-diet-rather-eat-a-balanced-diet/\n",
      "https://healthshots.hindustantimes.com/nutrition/want-to-be-healthy-dont-diet-rather-eat-a-balanced-diet/#respond\n",
      "https://healthshots.hindustantimes.com/nutrition/forget-protein-supplements-for-weight-loss-this-weekend-try-these-protein-laddus/\n",
      "https://healthshots.hindustantimes.com/nutrition/forget-protein-supplements-for-weight-loss-this-weekend-try-these-protein-laddus/#respond\n",
      "https://healthshots.hindustantimes.com/fitness/do-these-4-exercises-at-home-for-the-flattest-belly-ever/\n",
      "https://healthshots.hindustantimes.com/fitness/do-these-4-exercises-at-home-for-the-flattest-belly-ever/#respond\n",
      "https://healthshots.hindustantimes.com/wellness/science-says-a-glass-of-red-red-wine-can-be-great-for-your-digestion/\n",
      "https://healthshots.hindustantimes.com/wellness/science-says-a-glass-of-red-red-wine-can-be-great-for-your-digestion/#respond\n",
      "https://healthshots.hindustantimes.com/nutrition/if-you-work-out-for-more-than-an-hour-then-you-must-eat-carbs-before-you-hit-the-gym-says-study/\n",
      "https://healthshots.hindustantimes.com/nutrition/if-you-work-out-for-more-than-an-hour-then-you-must-eat-carbs-before-you-hit-the-gym-says-study/#respond\n",
      "https://healthshots.hindustantimes.com/preventive-care/exercising-during-pregnancy-help-with-tissue-health/\n",
      "https://healthshots.hindustantimes.com/preventive-care/exercising-during-pregnancy-help-with-tissue-health/#respond\n",
      "https://healthshots.hindustantimes.com/preventive-care/press-pause-because-binge-watching-your-favourite-series-is-really-bad-for-your-health-heres-why/\n",
      "https://healthshots.hindustantimes.com/preventive-care/press-pause-because-binge-watching-your-favourite-series-is-really-bad-for-your-health-heres-why/#respond\n",
      "https://healthshots.hindustantimes.com/unwind/stressed-taking-a-walk-in-the-park-even-for-20-minutes-can-help-says-study/\n",
      "https://healthshots.hindustantimes.com/unwind/stressed-taking-a-walk-in-the-park-even-for-20-minutes-can-help-says-study/#respond\n",
      "https://healthshots.hindustantimes.com/nutrition/dont-have-time-to-grab-breakfast-give-this-healthy-oats-shake-a-chance/\n",
      "https://healthshots.hindustantimes.com/nutrition/how-traditional-indian-diets-optimise-protein-intake/\n",
      "https://healthshots.hindustantimes.com/nutrition/scientifically-proven-health-benefits-of-turmeric-or-haldi/\n",
      "https://healthshots.hindustantimes.com/fitness/7-exercises-you-can-even-do-in-the-metro-and-get-a-well-toned-body/\n",
      "https://healthshots.hindustantimes.com/fitness/want-to-lose-weight-with-yoga-let-swati-kain-tell-you-how/\n",
      "https://healthshots.hindustantimes.com/fitness/need-an-energy-boost-this-yoga-routine-is-the-perfect-pick-me-up/\n",
      "https://healthshots.hindustantimes.com/fitness/need-an-energy-boost-this-yoga-routine-is-the-perfect-pick-me-up/#respond\n",
      "https://healthshots.hindustantimes.com/video/lose-weight-and-get-fit-with-makhana-well-tell-you-how/\n",
      "https://healthshots.hindustantimes.com/video/lose-weight-and-get-fit-with-makhana-well-tell-you-how/#respond\n",
      "https://healthshots.hindustantimes.com/video/drink-your-breakfast-with-this-delish-muesli-blueberry-recipe/\n",
      "https://healthshots.hindustantimes.com/video/drink-your-breakfast-with-this-delish-muesli-blueberry-recipe/#respond\n",
      "https://healthshots.hindustantimes.com/fitness/want-to-lose-weight-with-yoga-let-swati-kain-tell-you-how/#respond\n",
      "https://healthshots.hindustantimes.com/nutrition/wondering-how-intermittent-fasting-works-well-this-guide-will-help-you-out/\n",
      "https://healthshots.hindustantimes.com/nutrition/wondering-how-intermittent-fasting-works-well-this-guide-will-help-you-out/#respond\n",
      "https://healthshots.hindustantimes.com/preventive-care/hormone-therapy-for-menopause-can-increase-breast-cancer-risk-even-after-10-years/\n",
      "https://healthshots.hindustantimes.com/preventive-care/hormone-therapy-for-menopause-can-increase-breast-cancer-risk-even-after-10-years/#respond\n",
      "https://healthshots.hindustantimes.com/preventive-care/cannabis-decreases-creativity-and-attention-span-claims-study-so-put-down-that-joint/\n",
      "https://healthshots.hindustantimes.com/preventive-care/cannabis-decreases-creativity-and-attention-span-claims-study-so-put-down-that-joint/#respond\n",
      "https://healthshots.hindustantimes.com/unwind/from-boosting-creativity-to-making-you-an-optimist-here-are-the-many-benefits-of-meditation/\n",
      "https://healthshots.hindustantimes.com/unwind/from-boosting-creativity-to-making-you-an-optimist-here-are-the-many-benefits-of-meditation/#respond\n",
      "https://healthshots.hindustantimes.com/nutrition/struggling-with-midnight-hunger-pangs-eating-protein-at-bedtime-wont-make-you-fat-if-you-work-out/\n",
      "https://healthshots.hindustantimes.com/nutrition/struggling-with-midnight-hunger-pangs-eating-protein-at-bedtime-wont-make-you-fat-if-you-work-out/#respond\n",
      "https://healthshots.hindustantimes.com/preventive-care/not-just-bone-health-this-indian-study-links-vitamin-d-to-diabetes-high-blood-pressure/\n",
      "https://healthshots.hindustantimes.com/preventive-care/not-just-bone-health-this-indian-study-links-vitamin-d-to-diabetes-high-blood-pressure/#respond\n",
      "https://healthshots.hindustantimes.com/preventive-care/cervical-cancer-and-hpv-how-getting-vaccinated-can-save-you/\n",
      "https://healthshots.hindustantimes.com/preventive-care/cervical-cancer-and-hpv-how-getting-vaccinated-can-save-you/#respond\n",
      "https://healthshots.hindustantimes.com/unwind/these-are-the-5-absolutely-worst-ways-to-cope-with-stress/\n",
      "https://healthshots.hindustantimes.com/unwind/these-are-the-5-absolutely-worst-ways-to-cope-with-stress/#respond\n",
      "https://www.hindustantimes.com/bollywood/durga-puja-2019-kajol-goes-pandal-hopping-with-mother-tanuja-and-sister-tanishaa-demands-some-nice-pictures/story-U0MIAaCDJXkbYG8GVEfjNK.html\n",
      "https://www.hindustantimes.com/education/bpsc-65th-combined-competitive-prelims-admit-card-2019-soon-exam-on-october-15/story-z9dAsI0L5aUFM9yJsDpRRM.html\n",
      "https://www.hindustantimes.com/jaipur/gandhi-jayanti-2019-bjp-rss-should-apologize-to-the-nation-before-taking-gandhi-s-name-gehlot/story-FQu418E8zjkRZnPzeRDDNJ.html\n",
      "https://www.hindustantimes.com/education/army-public-school-awes-admit-card-2019-for-pgt-tgt-prt/story-eBqpGWURyeHv0tfZeO6GvK.html\n",
      "https://www.hindustantimes.com/education/gate-registration-2020-ends-tomorrow-here-s-how-to-apply/story-ad5FSpCTUktppRQsmjf6ZK.html\n",
      "https://www.hindustantimes.com/videos/india-news/1917-to-2019-has-mahatma-s-influence-changed-champaran-gandhi-jayanti/video-VEwWL5cCk94qCCsnGhddII.html\n",
      "https://www.hindustantimes.com/mumbai-news/4-year-old-s-rape-high-court-acquits-65-year-old-man-in-2011-case/story-Ch3kKcYM9Vc8lInofSFO1M.html\n"
     ]
    }
   ],
   "source": [
    "for article in newinfo.articles:\n",
    "    print(article.url)"
   ]
  },
  {
   "cell_type": "code",
   "execution_count": 39,
   "metadata": {},
   "outputs": [
    {
     "name": "stdout",
     "output_type": "stream",
     "text": [
      "https://www.hindustantimes.com/real-estate/in-un-building-donald-trump-sees-a-real-estate-deal-that-got-away/story-zoRCT8eXziIeSTsSQE0gHI.html\n",
      "http://brandleadership.hindustantimes.com\n",
      "https://punjabi.hindustantimes.com\n",
      "https://www.hindustantimes.com\n",
      "https://www.hindustantimes.com/photos\n",
      "https://www.hindustantimes.com/cricket\n",
      "https://www.hindustantimes.com/opinion\n",
      "https://www.hindustantimes.com/it-s-viral\n",
      "https://www.hindustantimes.com/tech\n",
      "https://www.hindustantimes.com/sports-news\n",
      "https://www.hindustantimes.com/health\n",
      "http://paper.hindustantimes.com\n",
      "https://www.hindustantimes.com/gurugram\n",
      "https://www.hindustantimes.com/real-estate\n",
      "https://healthshots.hindustantimes.com\n",
      "https://www.hindustantimes.com/entertainment\n",
      "https://www.hindustantimes.com/cities\n",
      "https://www.hindustantimes.com/lifestyle\n",
      "https://www.hindustantimes.com/education\n",
      "https://www.hindustantimes.com/videos\n",
      "https://www.hindustantimes.com/business-news\n",
      "https://www.hindustantimes.com/ht-weekend\n",
      "https://www.hindustantimes.com/world-news\n",
      "https://www.hindustantimes.com/mumbai-news\n",
      "https://www.hindustantimes.com/india-news\n"
     ]
    }
   ],
   "source": [
    "for category in newinfo.category_urls():\n",
    "    print(category)"
   ]
  },
  {
   "cell_type": "code",
   "execution_count": null,
   "metadata": {},
   "outputs": [],
   "source": []
  },
  {
   "cell_type": "code",
   "execution_count": null,
   "metadata": {},
   "outputs": [],
   "source": []
  }
 ],
 "metadata": {
  "kernelspec": {
   "display_name": "Python 3",
   "language": "python",
   "name": "python3"
  },
  "language_info": {
   "codemirror_mode": {
    "name": "ipython",
    "version": 3
   },
   "file_extension": ".py",
   "mimetype": "text/x-python",
   "name": "python",
   "nbconvert_exporter": "python",
   "pygments_lexer": "ipython3",
   "version": "3.7.3"
  }
 },
 "nbformat": 4,
 "nbformat_minor": 2
}
